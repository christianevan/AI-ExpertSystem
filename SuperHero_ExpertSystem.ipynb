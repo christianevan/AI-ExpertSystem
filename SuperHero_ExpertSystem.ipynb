{
  "nbformat": 4,
  "nbformat_minor": 0,
  "metadata": {
    "colab": {
      "name": "SuperHero_ExpertSystem.ipynb",
      "provenance": [],
      "authorship_tag": "ABX9TyMhdrkuA37V34THdFPThgTk",
      "include_colab_link": true
    },
    "kernelspec": {
      "name": "python3",
      "display_name": "Python 3"
    },
    "language_info": {
      "name": "python"
    }
  },
  "cells": [
    {
      "cell_type": "markdown",
      "metadata": {
        "id": "view-in-github",
        "colab_type": "text"
      },
      "source": [
        "<a href=\"https://colab.research.google.com/github/christianevan/AI-ExpertSystem/blob/main/SuperHero_ExpertSystem.ipynb\" target=\"_parent\"><img src=\"https://colab.research.google.com/assets/colab-badge.svg\" alt=\"Open In Colab\"/></a>"
      ]
    },
    {
      "cell_type": "markdown",
      "metadata": {
        "id": "l2BFrpX7TeGu"
      },
      "source": [
        "Albert Gunawan O - 219116844\n",
        "Christian Evan - 219116849\n",
        "Jeffrey Adrian - 219116854"
      ]
    },
    {
      "cell_type": "code",
      "metadata": {
        "id": "lW3i7BI1TZcK"
      },
      "source": [
        ""
      ],
      "execution_count": null,
      "outputs": []
    }
  ]
}